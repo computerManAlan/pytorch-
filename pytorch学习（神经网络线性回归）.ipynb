{
 "cells": [
  {
   "cell_type": "markdown",
   "metadata": {},
   "source": [
    "## 气温预测（神经网络）"
   ]
  },
  {
   "cell_type": "code",
   "execution_count": 3,
   "metadata": {},
   "outputs": [],
   "source": [
    "# -*- coding: utf-8 -*-\n",
    "import numpy as np\n",
    "import pandas as pd\n",
    "import matplotlib.pyplot as plt\n",
    "import torch\n",
    "import torch.optim as optim\n",
    "import warnings\n",
    "warnings.filterwarnings(\"ignore\")\n",
    "%matplotlib inline"
   ]
  },
  {
   "cell_type": "code",
   "execution_count": 4,
   "metadata": {},
   "outputs": [
    {
     "data": {
      "text/html": [
       "<div>\n",
       "<style scoped>\n",
       "    .dataframe tbody tr th:only-of-type {\n",
       "        vertical-align: middle;\n",
       "    }\n",
       "\n",
       "    .dataframe tbody tr th {\n",
       "        vertical-align: top;\n",
       "    }\n",
       "\n",
       "    .dataframe thead th {\n",
       "        text-align: right;\n",
       "    }\n",
       "</style>\n",
       "<table border=\"1\" class=\"dataframe\">\n",
       "  <thead>\n",
       "    <tr style=\"text-align: right;\">\n",
       "      <th></th>\n",
       "      <th>year</th>\n",
       "      <th>month</th>\n",
       "      <th>day</th>\n",
       "      <th>week</th>\n",
       "      <th>temp_2</th>\n",
       "      <th>temp_1</th>\n",
       "      <th>average</th>\n",
       "      <th>actual</th>\n",
       "      <th>friend</th>\n",
       "    </tr>\n",
       "  </thead>\n",
       "  <tbody>\n",
       "    <tr>\n",
       "      <td>0</td>\n",
       "      <td>2016</td>\n",
       "      <td>1</td>\n",
       "      <td>1</td>\n",
       "      <td>fri</td>\n",
       "      <td>45</td>\n",
       "      <td>45</td>\n",
       "      <td>45</td>\n",
       "      <td>45</td>\n",
       "      <td>29</td>\n",
       "    </tr>\n",
       "    <tr>\n",
       "      <td>1</td>\n",
       "      <td>2016</td>\n",
       "      <td>1</td>\n",
       "      <td>2</td>\n",
       "      <td>sat</td>\n",
       "      <td>44</td>\n",
       "      <td>45</td>\n",
       "      <td>45</td>\n",
       "      <td>44</td>\n",
       "      <td>32</td>\n",
       "    </tr>\n",
       "    <tr>\n",
       "      <td>2</td>\n",
       "      <td>2016</td>\n",
       "      <td>1</td>\n",
       "      <td>3</td>\n",
       "      <td>sun</td>\n",
       "      <td>45</td>\n",
       "      <td>44</td>\n",
       "      <td>45</td>\n",
       "      <td>41</td>\n",
       "      <td>24</td>\n",
       "    </tr>\n",
       "    <tr>\n",
       "      <td>3</td>\n",
       "      <td>2016</td>\n",
       "      <td>1</td>\n",
       "      <td>4</td>\n",
       "      <td>mon</td>\n",
       "      <td>44</td>\n",
       "      <td>41</td>\n",
       "      <td>42</td>\n",
       "      <td>40</td>\n",
       "      <td>42</td>\n",
       "    </tr>\n",
       "    <tr>\n",
       "      <td>4</td>\n",
       "      <td>2016</td>\n",
       "      <td>1</td>\n",
       "      <td>5</td>\n",
       "      <td>tues</td>\n",
       "      <td>41</td>\n",
       "      <td>40</td>\n",
       "      <td>41</td>\n",
       "      <td>44</td>\n",
       "      <td>53</td>\n",
       "    </tr>\n",
       "  </tbody>\n",
       "</table>\n",
       "</div>"
      ],
      "text/plain": [
       "   year  month  day  week  temp_2  temp_1  average  actual  friend\n",
       "0  2016      1    1   fri      45      45       45      45      29\n",
       "1  2016      1    2   sat      44      45       45      44      32\n",
       "2  2016      1    3   sun      45      44       45      41      24\n",
       "3  2016      1    4   mon      44      41       42      40      42\n",
       "4  2016      1    5  tues      41      40       41      44      53"
      ]
     },
     "execution_count": 4,
     "metadata": {},
     "output_type": "execute_result"
    }
   ],
   "source": [
    "features=pd.read_csv(\"temp.csv\",encoding='utf-8',error_bad_lines=False)\n",
    "#看看数据长啥样\n",
    "features.head()"
   ]
  },
  {
   "cell_type": "code",
   "execution_count": 5,
   "metadata": {},
   "outputs": [
    {
     "name": "stdout",
     "output_type": "stream",
     "text": [
      "数据维度 (9, 9)\n"
     ]
    }
   ],
   "source": [
    "print('数据维度',features.shape)"
   ]
  },
  {
   "cell_type": "code",
   "execution_count": 6,
   "metadata": {},
   "outputs": [],
   "source": [
    "#处理时间数据\n",
    "import datetime\n",
    "years=features['year']\n",
    "months=features['month']\n",
    "days=features['day']\n",
    "\n",
    "#datetime格式\n",
    "dates=[str(int(year))+'-'+str(int(month))+'-'+str(int(day)) for year,month,day in zip(years,months,days)]\n",
    "dates=[datetime.datetime.strptime(date,'%Y-%m-%d') for date in dates]"
   ]
  },
  {
   "cell_type": "code",
   "execution_count": 7,
   "metadata": {},
   "outputs": [
    {
     "data": {
      "text/plain": [
       "[datetime.datetime(2016, 1, 1, 0, 0),\n",
       " datetime.datetime(2016, 1, 2, 0, 0),\n",
       " datetime.datetime(2016, 1, 3, 0, 0),\n",
       " datetime.datetime(2016, 1, 4, 0, 0),\n",
       " datetime.datetime(2016, 1, 5, 0, 0)]"
      ]
     },
     "execution_count": 7,
     "metadata": {},
     "output_type": "execute_result"
    }
   ],
   "source": [
    "dates[:5]"
   ]
  },
  {
   "cell_type": "markdown",
   "metadata": {},
   "source": [
    "将字符串转换为独热编码"
   ]
  },
  {
   "cell_type": "code",
   "execution_count": 8,
   "metadata": {},
   "outputs": [
    {
     "data": {
      "text/html": [
       "<div>\n",
       "<style scoped>\n",
       "    .dataframe tbody tr th:only-of-type {\n",
       "        vertical-align: middle;\n",
       "    }\n",
       "\n",
       "    .dataframe tbody tr th {\n",
       "        vertical-align: top;\n",
       "    }\n",
       "\n",
       "    .dataframe thead th {\n",
       "        text-align: right;\n",
       "    }\n",
       "</style>\n",
       "<table border=\"1\" class=\"dataframe\">\n",
       "  <thead>\n",
       "    <tr style=\"text-align: right;\">\n",
       "      <th></th>\n",
       "      <th>year</th>\n",
       "      <th>month</th>\n",
       "      <th>day</th>\n",
       "      <th>temp_2</th>\n",
       "      <th>temp_1</th>\n",
       "      <th>average</th>\n",
       "      <th>actual</th>\n",
       "      <th>friend</th>\n",
       "      <th>week_fri</th>\n",
       "      <th>week_mon</th>\n",
       "      <th>week_sat</th>\n",
       "      <th>week_sun</th>\n",
       "      <th>week_tues</th>\n",
       "    </tr>\n",
       "  </thead>\n",
       "  <tbody>\n",
       "    <tr>\n",
       "      <td>0</td>\n",
       "      <td>2016</td>\n",
       "      <td>1</td>\n",
       "      <td>1</td>\n",
       "      <td>45</td>\n",
       "      <td>45</td>\n",
       "      <td>45</td>\n",
       "      <td>45</td>\n",
       "      <td>29</td>\n",
       "      <td>1</td>\n",
       "      <td>0</td>\n",
       "      <td>0</td>\n",
       "      <td>0</td>\n",
       "      <td>0</td>\n",
       "    </tr>\n",
       "    <tr>\n",
       "      <td>1</td>\n",
       "      <td>2016</td>\n",
       "      <td>1</td>\n",
       "      <td>2</td>\n",
       "      <td>44</td>\n",
       "      <td>45</td>\n",
       "      <td>45</td>\n",
       "      <td>44</td>\n",
       "      <td>32</td>\n",
       "      <td>0</td>\n",
       "      <td>0</td>\n",
       "      <td>1</td>\n",
       "      <td>0</td>\n",
       "      <td>0</td>\n",
       "    </tr>\n",
       "    <tr>\n",
       "      <td>2</td>\n",
       "      <td>2016</td>\n",
       "      <td>1</td>\n",
       "      <td>3</td>\n",
       "      <td>45</td>\n",
       "      <td>44</td>\n",
       "      <td>45</td>\n",
       "      <td>41</td>\n",
       "      <td>24</td>\n",
       "      <td>0</td>\n",
       "      <td>0</td>\n",
       "      <td>0</td>\n",
       "      <td>1</td>\n",
       "      <td>0</td>\n",
       "    </tr>\n",
       "    <tr>\n",
       "      <td>3</td>\n",
       "      <td>2016</td>\n",
       "      <td>1</td>\n",
       "      <td>4</td>\n",
       "      <td>44</td>\n",
       "      <td>41</td>\n",
       "      <td>42</td>\n",
       "      <td>40</td>\n",
       "      <td>42</td>\n",
       "      <td>0</td>\n",
       "      <td>1</td>\n",
       "      <td>0</td>\n",
       "      <td>0</td>\n",
       "      <td>0</td>\n",
       "    </tr>\n",
       "    <tr>\n",
       "      <td>4</td>\n",
       "      <td>2016</td>\n",
       "      <td>1</td>\n",
       "      <td>5</td>\n",
       "      <td>41</td>\n",
       "      <td>40</td>\n",
       "      <td>41</td>\n",
       "      <td>44</td>\n",
       "      <td>53</td>\n",
       "      <td>0</td>\n",
       "      <td>0</td>\n",
       "      <td>0</td>\n",
       "      <td>0</td>\n",
       "      <td>1</td>\n",
       "    </tr>\n",
       "  </tbody>\n",
       "</table>\n",
       "</div>"
      ],
      "text/plain": [
       "   year  month  day  temp_2  temp_1  average  actual  friend  week_fri  \\\n",
       "0  2016      1    1      45      45       45      45      29         1   \n",
       "1  2016      1    2      44      45       45      44      32         0   \n",
       "2  2016      1    3      45      44       45      41      24         0   \n",
       "3  2016      1    4      44      41       42      40      42         0   \n",
       "4  2016      1    5      41      40       41      44      53         0   \n",
       "\n",
       "   week_mon  week_sat  week_sun  week_tues  \n",
       "0         0         0         0          0  \n",
       "1         0         1         0          0  \n",
       "2         0         0         1          0  \n",
       "3         1         0         0          0  \n",
       "4         0         0         0          1  "
      ]
     },
     "execution_count": 8,
     "metadata": {},
     "output_type": "execute_result"
    }
   ],
   "source": [
    "features=pd.get_dummies(features)\n",
    "features.head(5)"
   ]
  },
  {
   "cell_type": "code",
   "execution_count": 9,
   "metadata": {},
   "outputs": [
    {
     "data": {
      "text/plain": [
       "(9, 12)"
      ]
     },
     "execution_count": 9,
     "metadata": {},
     "output_type": "execute_result"
    }
   ],
   "source": [
    "#标签\n",
    "labels=np.array(features['actual'])\n",
    "#在特征中去掉标签\n",
    "features=features.drop('actual',axis=1)\n",
    "#名字单独保存下\n",
    "features_list=list(features.columns)\n",
    "#转换为合适的格式\n",
    "features=np.array(features)\n",
    "features.shape"
   ]
  },
  {
   "cell_type": "markdown",
   "metadata": {},
   "source": [
    "## 构建网络模型"
   ]
  },
  {
   "cell_type": "code",
   "execution_count": 10,
   "metadata": {},
   "outputs": [
    {
     "data": {
      "text/plain": [
       "array([[ 0.        ,  0.        , -1.54919334,  1.32287566,  1.39457984,\n",
       "         1.33394594, -0.42949421,  1.41421356, -0.35355339, -0.53452248,\n",
       "        -0.53452248, -0.35355339],\n",
       "       [ 0.        ,  0.        , -1.161895  ,  0.75592895,  1.39457984,\n",
       "         1.33394594, -0.19283413, -0.70710678, -0.35355339,  1.87082869,\n",
       "        -0.53452248, -0.35355339],\n",
       "       [ 0.        ,  0.        , -0.77459667,  1.32287566,  0.84887469,\n",
       "         1.33394594, -0.82392766, -0.70710678, -0.35355339, -0.53452248,\n",
       "         1.87082869, -0.35355339],\n",
       "       [ 0.        ,  0.        , -0.38729833,  0.75592895, -0.78824078,\n",
       "        -0.30316953,  0.59603278, -0.70710678,  2.82842712, -0.53452248,\n",
       "        -0.53452248, -0.35355339],\n",
       "       [ 0.        ,  0.        ,  0.        , -0.94491118, -1.33394594,\n",
       "        -0.84887469,  1.46378638, -0.70710678, -0.35355339, -0.53452248,\n",
       "        -0.53452248,  2.82842712],\n",
       "       [ 0.        ,  0.        ,  0.38729833, -1.51185789, -1.33394594,\n",
       "        -1.39457984, -0.90281435,  1.41421356, -0.35355339, -0.53452248,\n",
       "        -0.53452248, -0.35355339],\n",
       "       [ 0.        ,  0.        ,  0.77459667, -0.37796447, -0.24253563,\n",
       "        -0.30316953,  1.38489969, -0.70710678, -0.35355339,  1.87082869,\n",
       "        -0.53452248, -0.35355339],\n",
       "       [ 0.        ,  0.        ,  1.161895  , -0.37796447,  0.30316953,\n",
       "        -0.30316953, -1.61279457, -0.70710678, -0.35355339, -0.53452248,\n",
       "         1.87082869, -0.35355339],\n",
       "       [ 0.        ,  0.        ,  1.54919334, -0.94491118, -0.24253563,\n",
       "        -0.84887469,  0.51714609,  1.41421356, -0.35355339, -0.53452248,\n",
       "        -0.53452248, -0.35355339]])"
      ]
     },
     "execution_count": 10,
     "metadata": {},
     "output_type": "execute_result"
    }
   ],
   "source": [
    "from sklearn import preprocessing\n",
    "#归一化\n",
    "input_features=preprocessing.StandardScaler().fit_transform(features)\n",
    "input_features"
   ]
  },
  {
   "cell_type": "code",
   "execution_count": 11,
   "metadata": {},
   "outputs": [],
   "source": [
    "#定义网络类型，以及优化器\n",
    "input_size=input_features.shape[1]\n",
    "hidden_size=128\n",
    "output_size=1\n",
    "batch_size=16\n",
    "my_nn=torch.nn.Sequential(\n",
    "    torch.nn.Linear(input_size,hidden_size),\n",
    "    torch.nn.Sigmoid(),\n",
    "    torch.nn.Linear(hidden_size,output_size)\n",
    ")\n",
    "cost=torch.nn.MSELoss(reduction='mean')\n",
    "optimizer=torch.optim.Adam(my_nn.parameters(),lr=0.01)"
   ]
  },
  {
   "cell_type": "code",
   "execution_count": 54,
   "metadata": {},
   "outputs": [
    {
     "name": "stdout",
     "output_type": "stream",
     "text": [
      "0 1793.7988\n",
      "100 2.4984505\n",
      "200 2.4444468\n",
      "300 2.444445\n",
      "400 2.444445\n",
      "500 2.444445\n",
      "600 2.4444447\n",
      "700 2.444445\n",
      "800 2.444445\n",
      "900 2.444445\n"
     ]
    }
   ],
   "source": [
    "#训练网络\n",
    "losses=[]\n",
    "for i in range(1000):\n",
    "    batch_loss=[]\n",
    "    #用minibatch的方法训练\n",
    "    for start in range(0,len(input_features),batch_size):\n",
    "        end=start+batch_size if start+batch_size<len(input_features) else len(input_features)\n",
    "        xx=torch.tensor(input_features[start:end],dtype=torch.float,requires_grad=True)\n",
    "        yy=torch.tensor(labels[start:end],dtype=torch.float,requires_grad=True)\n",
    "        prediction=my_nn(xx)\n",
    "        loss=cost(prediction,yy)\n",
    "        #梯度清0\n",
    "        optimizer.zero_grad()\n",
    "        loss.backward(retain_graph=True)\n",
    "        optimizer.step()\n",
    "        batch_loss.append(loss.data.numpy())\n",
    "    if i%100==0:\n",
    "        losses.append(np.mean(batch_loss))\n",
    "        print(i,np.mean(batch_loss))"
   ]
  }
 ],
 "metadata": {
  "kernelspec": {
   "display_name": "Python 3",
   "language": "python",
   "name": "python3"
  },
  "language_info": {
   "codemirror_mode": {
    "name": "ipython",
    "version": 3
   },
   "file_extension": ".py",
   "mimetype": "text/x-python",
   "name": "python",
   "nbconvert_exporter": "python",
   "pygments_lexer": "ipython3",
   "version": "3.7.4"
  }
 },
 "nbformat": 4,
 "nbformat_minor": 2
}
