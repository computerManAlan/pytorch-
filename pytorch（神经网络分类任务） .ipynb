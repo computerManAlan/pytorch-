{
 "cells": [
  {
   "cell_type": "markdown",
   "metadata": {},
   "source": [
    "## pytorch（神经网络分类任务） "
   ]
  },
  {
   "cell_type": "markdown",
   "metadata": {},
   "source": [
    "数据的读取"
   ]
  },
  {
   "cell_type": "code",
   "execution_count": 19,
   "metadata": {},
   "outputs": [],
   "source": [
    "import warnings\n",
    "from pathlib import Path\n",
    "import requests\n",
    "warnings.filterwarnings(\"ignore\")\n",
    "#下载数据集\n",
    "DATA_PATH=Path(\"data\")\n",
    "PATH=DATA_PATH/'mnist'\n",
    "PATH.mkdir(parents=True,exist_ok=True)\n",
    "URL=\"http://deeplearning.net/data/mnist/\"\n",
    "FILENAME=\"mnist.pkl.gz\"\n",
    "if not (PATH/FILENAME).exists():\n",
    "    content=requests.get(URL+FILENAME).content\n",
    "    (PATH/FILENAME).open(\"wb\").write(content)"
   ]
  },
  {
   "cell_type": "code",
   "execution_count": 3,
   "metadata": {},
   "outputs": [],
   "source": [
    "import pickle\n",
    "import gzip\n",
    "with gzip.open((PATH/FILENAME).as_posix(),\"rb\") as f:\n",
    "    ((x_train,y_train),(x_valid,y_valid),_)=pickle.load(f,encoding=\"latin-1\")"
   ]
  },
  {
   "cell_type": "code",
   "execution_count": 5,
   "metadata": {},
   "outputs": [
    {
     "data": {
      "image/png": "[encoded data removed]",
      "text/plain": [
       "<Figure size 432x288 with 1 Axes>"
      ]
     },
     "metadata": {
      "needs_background": "light"
     },
     "output_type": "display_data"
    },
    {
     "name": "stdout",
     "output_type": "stream",
     "text": [
      "(50000, 784)\n"
     ]
    }
   ],
   "source": [
    "from matplotlib import pyplot\n",
    "import numpy as np\n",
    "pyplot.imshow(x_train[0].reshape((28,28)),cmap=\"gray\")\n",
    "pyplot.show()\n",
    "print(x_train.shape)"
   ]
  },
  {
   "cell_type": "code",
   "execution_count": 7,
   "metadata": {},
   "outputs": [],
   "source": [
    "import torch\n",
    "#转换为tensor格式\n",
    "x_train,y_train,x_valid,y_valid=map(\n",
    "    torch.tensor,(x_train,y_train,x_valid,y_valid)\n",
    ")"
   ]
  },
  {
   "cell_type": "markdown",
   "metadata": {},
   "source": [
    "torch.nn.functional中有很多功能。那什么时候用nn.module,什么时候用nn.functional？一般情况下，如果模型有可学习的参数，最好用nn.module,其他情况nn.functional相对比较简单"
   ]
  },
  {
   "cell_type": "code",
   "execution_count": 21,
   "metadata": {},
   "outputs": [],
   "source": [
    "import torch.nn.functional as F\n",
    "import torch.nn as nn\n",
    "#定义一些固定值\n",
    "loss_func=F.cross_entropy\n",
    "step=20\n",
    "bs=64"
   ]
  },
  {
   "cell_type": "markdown",
   "metadata": {},
   "source": [
    "定义模型"
   ]
  },
  {
   "cell_type": "code",
   "execution_count": 17,
   "metadata": {},
   "outputs": [],
   "source": [
    "#定义网络模型\n",
    "class Mnist_nn(nn.Module):\n",
    "    def __init__(self):\n",
    "        super().__init__()\n",
    "        self.hidden1=nn.Linear(784,128)\n",
    "        self.hidden2=nn.Linear(128,256)\n",
    "        self.out=nn.Linear(256,10)\n",
    "    def forward(self,x):\n",
    "        x=F.relu(self.hidden1(x))\n",
    "        x=F.relu(self.hidden2(x))\n",
    "        x=self.out(x)\n",
    "        return x\n",
    "#进行梯度下降\n",
    "def loss_batch(model,xx,yy,loss_func,opt=None):\n",
    "    loss=loss_func(model(xx),yy)\n",
    "    if opt!=None:\n",
    "        loss.backward()\n",
    "        opt.step()\n",
    "        opt.zero_grad()\n",
    "    return loss.item(),len(xx)\n",
    "#进行训练\n",
    "def fit(step,model,loss_func,train_dl,test_dl,opt):\n",
    "    for i in range(step):\n",
    "        #训练\n",
    "        model.train()\n",
    "        for xx, yy in train_dl:\n",
    "            loss,num=loss_batch(model,xx,yy,loss_func,opt)\n",
    "        #验证：\n",
    "        model.eval()\n",
    "        with torch.no_grad():\n",
    "            loss,num=zip(*[loss_batch(model,xx,yy,loss_func) for xx,yy in test_dl])\n",
    "            print(\"验证集的损失值为:\",np.sum(np.multiply(loss,num)/np.sum(num)))\n",
    "    #预测结果的显示\n",
    "    predict=np.argmax(model(torch.tensor(x_valid[0],dtype=torch.float)).data.numpy(),axis=0)\n",
    "    pyplot.imshow(x_valid[0].reshape(28,28),cmap='gray')\n",
    "    pyplot.show()\n",
    "    print(\"当前的预测值为\",predict)\n",
    "#获得模型和优化器\n",
    "def get_model():\n",
    "    model=Mnist_nn()\n",
    "    return model,torch.optim.SGD(model.parameters(),lr=0.01)"
   ]
  },
  {
   "cell_type": "markdown",
   "metadata": {},
   "source": [
    "数据构造"
   ]
  },
  {
   "cell_type": "code",
   "execution_count": 20,
   "metadata": {},
   "outputs": [
    {
     "name": "stdout",
     "output_type": "stream",
     "text": [
      "验证集的损失值为: 0.8780187672615051\n",
      "验证集的损失值为: 0.44123091945648196\n",
      "验证集的损失值为: 0.3576239625930786\n",
      "验证集的损失值为: 0.32258055434226995\n",
      "验证集的损失值为: 0.30319221057891843\n",
      "验证集的损失值为: 0.2832593293905258\n",
      "验证集的损失值为: 0.26746041378974916\n",
      "验证集的损失值为: 0.2555977565765381\n",
      "验证集的损失值为: 0.24357888412475587\n",
      "验证集的损失值为: 0.2336017012119293\n",
      "验证集的损失值为: 0.223485861825943\n",
      "验证集的损失值为: 0.2129057469844818\n",
      "验证集的损失值为: 0.2043708380460739\n",
      "验证集的损失值为: 0.2018336416721344\n",
      "验证集的损失值为: 0.18848236579895017\n",
      "验证集的损失值为: 0.1834354956150055\n",
      "验证集的损失值为: 0.17755465812683108\n",
      "验证集的损失值为: 0.1697735072016716\n",
      "验证集的损失值为: 0.16725194489061831\n",
      "验证集的损失值为: 0.16835437049269675\n"
     ]
    },
    {
     "data": {
      "image/png": "[encoded data removed]",
      "text/plain": [
       "<Figure size 432x288 with 1 Axes>"
      ]
     },
     "metadata": {
      "needs_background": "light"
     },
     "output_type": "display_data"
    },
    {
     "name": "stdout",
     "output_type": "stream",
     "text": [
      "当前的预测值为 3\n"
     ]
    }
   ],
   "source": [
    "from torch.utils.data import TensorDataset\n",
    "from torch.utils.data import DataLoader\n",
    "#使用tensordataset来转换数据格式，dataloader来划分训练集和测试集，以及实现mini-batch\n",
    "train_ds=TensorDataset(x_train,y_train)\n",
    "train_dl=DataLoader(train_ds,batch_size=bs,shuffle=True)\n",
    "test_ds=TensorDataset(x_valid,y_valid)\n",
    "test_dl=DataLoader(test_ds,batch_size=bs,shuffle=True)\n",
    "\n",
    "model_mnist,optim=get_model()\n",
    "fit(step,model_mnist,loss_func,train_dl,test_dl,optim)"
   ]
  }
 ],
 "metadata": {
  "kernelspec": {
   "display_name": "Python 3",
   "language": "python",
   "name": "python3"
  },
  "language_info": {
   "codemirror_mode": {
    "name": "ipython",
    "version": 3
   },
   "file_extension": ".py",
   "mimetype": "text/x-python",
   "name": "python",
   "nbconvert_exporter": "python",
   "pygments_lexer": "ipython3",
   "version": "3.7.4"
  }
 },
 "nbformat": 4,
 "nbformat_minor": 2
}
